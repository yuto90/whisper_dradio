{
  "nbformat": 4,
  "nbformat_minor": 0,
  "metadata": {
    "colab": {
      "provenance": [],
      "authorship_tag": "ABX9TyOGDROg169C6eV53Asq0oiP",
      "include_colab_link": true
    },
    "kernelspec": {
      "name": "python3",
      "display_name": "Python 3"
    },
    "language_info": {
      "name": "python"
    },
    "accelerator": "GPU",
    "gpuClass": "standard"
  },
  "cells": [
    {
      "cell_type": "markdown",
      "metadata": {
        "id": "view-in-github",
        "colab_type": "text"
      },
      "source": [
        "<a href=\"https://colab.research.google.com/github/yuto90/whisper_gradio/blob/main/gijiroku_pynb.ipynb\" target=\"_parent\"><img src=\"https://colab.research.google.com/assets/colab-badge.svg\" alt=\"Open In Colab\"/></a>"
      ]
    },
    {
      "cell_type": "code",
      "execution_count": null,
      "metadata": {
        "id": "hCJDufyGyDYy"
      },
      "outputs": [],
      "source": [
        "# whisper用\n",
        "!pip install git+https://github.com/nyanta012/whisper -q\n",
        "# chatGPT用\n",
        "!pip install openai"
      ]
    },
    {
      "cell_type": "code",
      "source": [
        "!pip install gradio==3.4.0"
      ],
      "metadata": {
        "id": "SxjLey-ZyKBN"
      },
      "execution_count": null,
      "outputs": []
    },
    {
      "cell_type": "code",
      "source": [
        "import gradio as gr \n",
        "import whisper\n",
        "\n",
        "model = whisper.load_model(\"large\")"
      ],
      "metadata": {
        "id": "2Hnt-V3Qyl0a"
      },
      "execution_count": null,
      "outputs": []
    },
    {
      "cell_type": "code",
      "source": [
        "import openai\n",
        "\n",
        "def generate_gijiroku(video_name):\n",
        "    transcribtfile = create_transcribtfile(video_name)\n",
        "    summaryfile = create_summaryfile(transcribtfile)\n",
        "\n",
        "    return summaryfile\n",
        "\n",
        "# 文字起こしファイルを作成する\n",
        "def create_transcribtfile(video_name):\n",
        "    results = model.transcribe(video_name, verbose=False, language=\"ja\")\n",
        "\n",
        "    # アウトプット用ファイルを上書きモードで作成して開く\n",
        "    with open(\"transcribe.txt\", mode=\"w\") as f:\n",
        "        # 文字起こし結果を書き込み\n",
        "        for index, _dict in enumerate(results[\"segments\"]):\n",
        "            f.write(f'{_dict[\"text\"]}\\n')\n",
        "    return \"transcribe.txt\"\n",
        "\n",
        "# 要約ファイルを作成\n",
        "def create_summaryfile(transcript):\n",
        "    openai.api_key = \"\"  # APIキー\n",
        "    \n",
        "    system_template = \"\"\"会議の書き起こしが渡されます。\n",
        "    \n",
        "    この会議のサマリーをMarkdown形式で作成してください。サマリーは、以下のような形式で書いてください。\n",
        "    \n",
        "    - 会議の目的\n",
        "    - 会議の内容\n",
        "    - 会議の結果\"\"\"\n",
        "    \n",
        "    completion = openai.ChatCompletion.create(\n",
        "        model=\"gpt-3.5-turbo\",\n",
        "        messages=[\n",
        "            {\"role\": \"system\", \"content\": system_template},\n",
        "            {\"role\": \"user\", \"content\": transcript}\n",
        "        ]\n",
        "    )\n",
        "    response_text = completion.choices[0].message.content\n",
        "    \n",
        "    # アウトプット用ファイルを上書きモードで作成して開く\n",
        "    with open(\"summary.txt\", mode=\"w\") as f:\n",
        "        # 文字起こし結果を書き込み\n",
        "        f.write(f'{response_text}')\n",
        "    return \"summary.txt\"\n",
        "\n",
        "css = \"\"\"\n",
        "        .gradio-container {\n",
        "            font-family: 'IBM Plex Sans', sans-serif;\n",
        "        }\n",
        "        .container {\n",
        "            max-width: 730px;\n",
        "            margin: auto;\n",
        "            padding-top: 1.5rem;\n",
        "        }\n",
        "        #gallery {\n",
        "            min-height: 22rem;\n",
        "            margin-bottom: 15px;\n",
        "            margin-left: auto;\n",
        "            margin-right: auto;\n",
        "            border-bottom-right-radius: .5rem !important;\n",
        "            border-bottom-left-radius: .5rem !important;\n",
        "        }\n",
        "        #gallery>div>.h-full {\n",
        "            min-height: 20rem;\n",
        "        }\n",
        "\n",
        "\"\"\"\n",
        "\n",
        "block = gr.Blocks(css=css)\n",
        "\n",
        "with block:   \n",
        "    gr.Markdown(\"議事録自動作成アプリ\")\n",
        "    with gr.Group():\n",
        "        with gr.Box():\n",
        "            with gr.Row(mobile_collapse=False, equal_height=True):\n",
        "                text_button = gr.Button(\"transcribe\").style(\n",
        "                        margin=False,\n",
        "                        rounded=(True, True, True, True),\n",
        "                    )\n",
        "        video = gr.Audio(source=\"upload\", type=\"filepath\", interactive=True)       \n",
        "        transcribe = gr.File(label=\"summary text file\")\n",
        "        # ボタンを押した時の挙動\n",
        "        text_button.click(generate_gijiroku, inputs=[video], outputs=[transcribe])\n",
        "\n",
        "block.launch(debug=True)"
      ],
      "metadata": {
        "id": "gNdiQYGlzKB4"
      },
      "execution_count": null,
      "outputs": []
    }
  ]
}