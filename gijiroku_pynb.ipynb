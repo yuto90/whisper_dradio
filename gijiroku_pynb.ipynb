{
  "cells": [
    {
      "cell_type": "markdown",
      "metadata": {
        "id": "view-in-github",
        "colab_type": "text"
      },
      "source": [
        "<a href=\"https://colab.research.google.com/github/yuto90/whisper_gradio/blob/main/gijiroku_pynb.ipynb\" target=\"_parent\"><img src=\"https://colab.research.google.com/assets/colab-badge.svg\" alt=\"Open In Colab\"/></a>"
      ]
    },
    {
      "cell_type": "code",
      "execution_count": null,
      "metadata": {
        "id": "hCJDufyGyDYy"
      },
      "outputs": [],
      "source": [
        "# whisper用\n",
        "!pip install git+https://github.com/nyanta012/whisper -q\n",
        "# chatGPT用\n",
        "!pip install openai\n",
        "# Gradio用\n",
        "!pip install gradio==3.4.0"
      ]
    },
    {
      "cell_type": "code",
      "execution_count": null,
      "metadata": {
        "id": "2Hnt-V3Qyl0a"
      },
      "outputs": [],
      "source": [
        "import whisper\n",
        "\n",
        "# モデルのダウンロード\n",
        "model = whisper.load_model(\"large\")"
      ]
    },
    {
      "cell_type": "code",
      "execution_count": null,
      "metadata": {
        "colab": {
          "background_save": true,
          "base_uri": "https://localhost:8080/",
          "height": 608
        },
        "id": "gNdiQYGlzKB4",
        "outputId": "6e58f8c4-f817-41ad-cbf3-9348d4e9acd1"
      },
      "outputs": [
        {
          "output_type": "stream",
          "name": "stdout",
          "text": [
            "Colab notebook detected. This cell will run indefinitely so that you can see errors and logs. To turn off, set debug=False in launch().\n",
            "Running on public URL: https://f6754d870b112fd9.gradio.app\n",
            "\n",
            "This share link expires in 72 hours. For free permanent hosting, check out Spaces: https://www.huggingface.co/spaces\n"
          ]
        },
        {
          "output_type": "display_data",
          "data": {
            "text/plain": [
              "<IPython.core.display.HTML object>"
            ],
            "text/html": [
              "<div><iframe src=\"https://f6754d870b112fd9.gradio.app\" width=\"900\" height=\"500\" allow=\"autoplay; camera; microphone; clipboard-read; clipboard-write;\" frameborder=\"0\" allowfullscreen></iframe></div>"
            ]
          },
          "metadata": {}
        },
        {
          "output_type": "stream",
          "name": "stderr",
          "text": [
            "100%|██████████| 1550/1550 [00:20<00:00, 77.33frames/s]\n"
          ]
        }
      ],
      "source": [
        "import openai\n",
        "import gradio as gr \n",
        "\n",
        "# 議事録ファイルを生成\n",
        "def generate_gijiroku(audio):\n",
        "    transcription_file = create_transcription_file(audio)\n",
        "    summary_file = create_summary_file(transcription_file)\n",
        "\n",
        "    #  文字起こしファイルと要約ファイルを出力\n",
        "    return [transcription_file, summary_file]\n",
        "\n",
        "# Whisperで文字起こしファイルを作成\n",
        "def create_transcription_file(audio):\n",
        "    results = model.transcribe(audio, verbose=False, language=\"ja\")\n",
        "\n",
        "    # アウトプット用ファイルを上書きモードで作成して開く\n",
        "    with open(\"transcribe.txt\", mode=\"w\") as f:\n",
        "        # 文字起こし結果を書き込み\n",
        "        for index, _dict in enumerate(results[\"segments\"]):\n",
        "            f.write(f'{_dict[\"text\"]}\\n')\n",
        "\n",
        "    # 作成したtxtファイルを返却\n",
        "    return \"transcribe.txt\"\n",
        "\n",
        "# chatGPTで要約ファイルを作成\n",
        "def create_summary_file(transcription_file):\n",
        "    # APIキー\n",
        "    openai.api_key = \"\"\n",
        "    \n",
        "    \n",
        "    system_template = \"\"\"会議の書き起こしが渡されます。\n",
        "    \n",
        "    この会議のサマリーをMarkdown形式で作成してください。サマリーは、以下のような形式で書いてください。\n",
        "    \n",
        "    - 会議の目的\n",
        "    - 会議の内容\n",
        "    - 会議の結果\"\"\"\n",
        "    \n",
        "    completion = openai.ChatCompletion.create(\n",
        "        model=\"gpt-3.5-turbo\",\n",
        "        messages=[\n",
        "            {\"role\": \"system\", \"content\": system_template},\n",
        "            {\"role\": \"user\", \"content\": transcription_file}\n",
        "        ]\n",
        "    )\n",
        "\n",
        "    # 回答を取得\n",
        "    response_text = completion.choices[0].message.content\n",
        "    \n",
        "    # アウトプット用ファイルを上書きモードで作成して開く\n",
        "    with open(\"summary.txt\", mode=\"w\") as f:\n",
        "        # 結果をアウトプット用ファイルに書き込み\n",
        "        f.write(f'{response_text}')\n",
        "\n",
        "    # 作成したtxtファイルを返却\n",
        "    return \"summary.txt\"\n",
        "\n",
        "css = \"\"\"\n",
        "        .gradio-container {\n",
        "            font-family: 'IBM Plex Sans', sans-serif;\n",
        "        }\n",
        "        .container {\n",
        "            max-width: 730px;\n",
        "            margin: auto;\n",
        "            padding-top: 1.5rem;\n",
        "        }\n",
        "        #gallery {\n",
        "            min-height: 22rem;\n",
        "            margin-bottom: 15px;\n",
        "            margin-left: auto;\n",
        "            margin-right: auto;\n",
        "            border-bottom-right-radius: .5rem !important;\n",
        "            border-bottom-left-radius: .5rem !important;\n",
        "        }\n",
        "        #gallery>div>.h-full {\n",
        "            min-height: 20rem;\n",
        "        }\n",
        "\n",
        "\"\"\"\n",
        "\n",
        "block = gr.Blocks(css=css)\n",
        "\n",
        "with block:   \n",
        "    gr.Markdown(\"GIZY\")\n",
        "    with gr.Group():\n",
        "        with gr.Box():\n",
        "            with gr.Row(mobile_collapse=False, equal_height=True):\n",
        "                text_button = gr.Button(\"generate summary\").style(\n",
        "                        margin=False,\n",
        "                        rounded=(True, True, True, True),\n",
        "                    )\n",
        "        audio = gr.Audio(source=\"upload\", type=\"filepath\", interactive=True)       \n",
        "        outputs = gr.File(label=\"summary text file\")\n",
        "        # ボタンを押した時の挙動\n",
        "        text_button.click(generate_gijiroku, inputs=[audio], outputs=[outputs])\n",
        "\n",
        "block.launch(debug=True)"
      ]
    }
  ],
  "metadata": {
    "accelerator": "GPU",
    "colab": {
      "provenance": [],
      "authorship_tag": "ABX9TyOMcuDXeI3luCfyz4Mhp3eD",
      "include_colab_link": true
    },
    "gpuClass": "standard",
    "kernelspec": {
      "display_name": "Python 3",
      "name": "python3"
    },
    "language_info": {
      "name": "python"
    }
  },
  "nbformat": 4,
  "nbformat_minor": 0
}